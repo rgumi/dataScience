{
  "nbformat": 4,
  "nbformat_minor": 0,
  "metadata": {
    "colab": {
      "name": "backorders",
      "provenance": [],
      "include_colab_link": true
    },
    "kernelspec": {
      "name": "python3",
      "display_name": "Python 3"
    }
  },
  "cells": [
    {
      "cell_type": "markdown",
      "metadata": {
        "id": "view-in-github",
        "colab_type": "text"
      },
      "source": [
        "<a href=\"https://colab.research.google.com/github/rgumi/dataScience/blob/master/backorders.ipynb\" target=\"_parent\"><img src=\"https://colab.research.google.com/assets/colab-badge.svg\" alt=\"Open In Colab\"/></a>"
      ]
    },
    {
      "cell_type": "code",
      "metadata": {
        "id": "EiAQdPrskPxs",
        "colab_type": "code",
        "colab": {}
      },
      "source": [
        "import numpy as np\n",
        "import pandas as pd\n",
        "from sklearn.compose import ColumnTransformer\n",
        "from sklearn.ensemble import RandomForestClassifier\n",
        "from sklearn.metrics import accuracy_score, recall_score, precision_score, f1_score, make_scorer\n",
        "from sklearn.model_selection import cross_validate, RandomizedSearchCV\n",
        "from sklearn.pipeline import Pipeline\n",
        "from sklearn.preprocessing import MinMaxScaler, OrdinalEncoder\n",
        "from scipy.stats import randint"
      ],
      "execution_count": 0,
      "outputs": []
    },
    {
      "cell_type": "code",
      "metadata": {
        "id": "UxUbSicijlxm",
        "colab_type": "code",
        "colab": {}
      },
      "source": [
        "data = pd.read_csv('https://raw.githubusercontent.com/saschaschworm/big-data-and-data-science/master/datasets/exercises/backorders.csv')\n",
        "X, y = data.iloc[:, 0:-1], data['went_on_backorder']\n",
        "\n",
        "hyperparams = {'random_state': 1909}\n",
        "model = RandomForestClassifier(**hyperparams)"
      ],
      "execution_count": 0,
      "outputs": []
    },
    {
      "cell_type": "code",
      "metadata": {
        "id": "gin5NHsmlXaf",
        "colab_type": "code",
        "colab": {}
      },
      "source": [
        "# normalization\n",
        "\n",
        "numeric_features = X.iloc[:, 0:-1].columns\n",
        "categorical_features = ['ppap_risk']\n",
        "\n",
        "numeric_transformer = Pipeline([\n",
        "    ('scaler', MinMaxScaler()),\n",
        "])\n",
        "categorical_transformer = Pipeline ([\n",
        "    ('onehotencoder', OrdinalEncoder())\n",
        "])\n",
        "\n",
        "preprocessor = ColumnTransformer([\n",
        "    ('n_transformer', numeric_transformer, numeric_features),\n",
        "    ('c_transformer', categorical_transformer, categorical_features),\n",
        "])\n",
        "\n",
        "pipeline = Pipeline([\n",
        "    ('preprocessor', preprocessor), \n",
        "    ('model', model)\n",
        "])\n",
        "\n",
        "#pipeline = pipeline.fit(X, y)\n"
      ],
      "execution_count": 0,
      "outputs": []
    },
    {
      "cell_type": "code",
      "metadata": {
        "id": "0YCu4N8NpYw5",
        "colab_type": "code",
        "colab": {
          "base_uri": "https://localhost:8080/",
          "height": 34
        },
        "outputId": "b80012c4-4690-4d05-b12e-18e9967cf3ab"
      },
      "source": [
        "n_estimators = randint(200, 400)\n",
        "max_depth = randint(75, 125)\n",
        "# model__ weil man im object \"model\" in der pipeline die Parameter verbessern/setzen will\n",
        "param_distributions = {'model__n_estimators': n_estimators, 'model__max_depth': max_depth}\n",
        "\n",
        "rs = RandomizedSearchCV(pipeline, param_distributions=param_distributions, n_iter=5,\n",
        "                       scoring=custom_scorer, n_jobs=-1, iid=False, cv=10, random_state=1909)\n",
        "rs = rs.fit(X, y)\n",
        "\n",
        "print(f'Optimal parameters: {rs.best_params_}')"
      ],
      "execution_count": 104,
      "outputs": [
        {
          "output_type": "stream",
          "text": [
            "Optimal parameters: {'model__max_depth': 96, 'model__n_estimators': 286}\n"
          ],
          "name": "stdout"
        }
      ]
    },
    {
      "cell_type": "code",
      "metadata": {
        "id": "hMv7SUnkqS8K",
        "colab_type": "code",
        "colab": {
          "base_uri": "https://localhost:8080/",
          "height": 50
        },
        "outputId": "1bac1447-8e0d-440d-c033-90a7c057efa6"
      },
      "source": [
        "# best: {'model__max_depth': 96, 'model__n_estimators': 286}\n",
        "#\n",
        "hyperparams = {'n_estimators': rs.best_params_['model__n_estimators'], \n",
        "               'criterion': 'gini', \n",
        "               'max_depth': rs.best_params_['model__max_depth'],\n",
        "               'min_samples_split': 2,\n",
        "               'min_samples_leaf': 1, 'min_weight_fraction_leaf': 0.0, 'max_features': 'auto',\n",
        "               'max_leaf_nodes': None, 'min_impurity_decrease': 0.0, 'min_impurity_split': None,\n",
        "               'bootstrap': True, 'oob_score': False, 'n_jobs': None, 'random_state': 1909,\n",
        "               'verbose': 0, 'warm_start': False, 'class_weight': None}\n",
        "\n",
        "model = RandomForestClassifier(**hyperparams)\n",
        "\n",
        "pipeline = Pipeline([\n",
        "    ('preprocessor', preprocessor), \n",
        "    ('model', model)\n",
        "])\n",
        "\n",
        "pipeline.fit(X, y)\n",
        "res_cv = cross_validate(pipeline, X, y, scoring=custom_scorer, cv=10, return_train_score=True)\n",
        "res_f1_tr = np.mean(res_cv['train_score']) * 100\n",
        "res_f1_te = np.mean(res_cv['test_score']) * 100\n",
        "print(f'Average F1 on Training and Test Sets: {res_f1_tr:.2f}%/{res_f1_te:.2f}%')"
      ],
      "execution_count": 105,
      "outputs": [
        {
          "output_type": "stream",
          "text": [
            "Average F1 on Training and Test Sets: 97.38%/89.73%\n",
            "Average F1 on Training and Test Sets: 97.38%/89.75%\n"
          ],
          "name": "stdout"
        }
      ]
    }
  ]
}