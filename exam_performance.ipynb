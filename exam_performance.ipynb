{
  "nbformat": 4,
  "nbformat_minor": 0,
  "metadata": {
    "kernelspec": {
      "display_name": "Python 3",
      "language": "python",
      "name": "python3"
    },
    "language_info": {
      "codemirror_mode": {
        "name": "ipython",
        "version": 3
      },
      "file_extension": ".py",
      "mimetype": "text/x-python",
      "name": "python",
      "nbconvert_exporter": "python",
      "pygments_lexer": "ipython3",
      "version": "3.6.8"
    },
    "colab": {
      "name": "exam-performance.ipynb",
      "provenance": [],
      "include_colab_link": true
    }
  },
  "cells": [
    {
      "cell_type": "markdown",
      "metadata": {
        "id": "view-in-github",
        "colab_type": "text"
      },
      "source": [
        "<a href=\"https://colab.research.google.com/github/rgumi/dataScience/blob/master/exam_performance.ipynb\" target=\"_parent\"><img src=\"https://colab.research.google.com/assets/colab-badge.svg\" alt=\"Open In Colab\"/></a>"
      ]
    },
    {
      "cell_type": "code",
      "metadata": {
        "id": "KKM_4Jd1cbmB",
        "colab_type": "code",
        "colab": {}
      },
      "source": [
        "import numpy as np\n",
        "import pandas as pd\n",
        "from sklearn.compose import ColumnTransformer\n",
        "from sklearn.linear_model import SGDClassifier\n",
        "from sklearn.metrics import accuracy_score, recall_score, precision_score, f1_score\n",
        "from sklearn.model_selection import cross_validate, train_test_split\n",
        "from sklearn.pipeline import Pipeline\n",
        "from sklearn.preprocessing import MinMaxScaler"
      ],
      "execution_count": 0,
      "outputs": []
    },
    {
      "cell_type": "code",
      "metadata": {
        "id": "Bl3jP1AHcbmF",
        "colab_type": "code",
        "colab": {}
      },
      "source": [
        "data = pd.read_csv('https://raw.githubusercontent.com/saschaschworm/big-data-and-data-science/master/datasets/demos/exam-performance.csv')\n",
        "X, y = data[['hours_studied', 'hours_slept']], data['passed']\n",
        "\n",
        "hyperparams = {'loss': 'log', 'penalty': 'none', 'alpha': 0.0001, 'max_iter': 1000, \n",
        "               'tol': 1e-3, 'random_state': 1909, 'eta0': 0.0001}\n",
        "\n",
        "model = SGDClassifier(**hyperparams)"
      ],
      "execution_count": 0,
      "outputs": []
    },
    {
      "cell_type": "code",
      "metadata": {
        "id": "Q2dHyw86cbmN",
        "colab_type": "code",
        "colab": {}
      },
      "source": [
        "numeric_features = ['hours_studied', 'hours_slept']\n",
        "\n",
        "numeric_transformer = Pipeline([\n",
        "    ('scaler', MinMaxScaler()),\n",
        "])\n",
        "\n",
        "preprocessor = ColumnTransformer([\n",
        "    ('n_transformer', numeric_transformer, numeric_features),\n",
        "])\n",
        "\n",
        "pipeline = Pipeline([\n",
        "    ('preprocessor', preprocessor), \n",
        "    ('model', model)\n",
        "])\n",
        "\n",
        "pipeline = pipeline.fit(X, y)"
      ],
      "execution_count": 0,
      "outputs": []
    },
    {
      "cell_type": "code",
      "metadata": {
        "id": "FIfjXr3JcbmU",
        "colab_type": "code",
        "outputId": "8c91238c-3649-429f-9ea2-202f77f80c12",
        "colab": {
          "base_uri": "https://localhost:8080/",
          "height": 34
        }
      },
      "source": [
        "predict_set = pd.DataFrame({'hours_studied': [4], 'hours_slept': [10]})\n",
        "prediction = pipeline.predict_proba(predict_set)\n",
        "f'Prediction for a 4 hours slept and 10 hours studied: {prediction}'"
      ],
      "execution_count": 61,
      "outputs": [
        {
          "output_type": "execute_result",
          "data": {
            "text/plain": [
              "'Prediction for a 4 hours slept and 10 hours studied: [[0.09896779 0.90103221]]'"
            ]
          },
          "metadata": {
            "tags": []
          },
          "execution_count": 61
        }
      ]
    },
    {
      "cell_type": "code",
      "metadata": {
        "id": "JvFOYGx9cbml",
        "colab_type": "code",
        "colab": {}
      },
      "source": [
        "scoring = ['accuracy', 'recall', 'precision', 'f1']\n",
        "res_cv = cross_validate(pipeline, X, y, scoring=scoring, cv=10, return_train_score=True)"
      ],
      "execution_count": 0,
      "outputs": []
    },
    {
      "cell_type": "code",
      "metadata": {
        "id": "X22VoI2pcbms",
        "colab_type": "code",
        "outputId": "f618d22a-34fb-4a7f-efe6-8b4855046faf",
        "colab": {
          "base_uri": "https://localhost:8080/",
          "height": 84
        }
      },
      "source": [
        "res_acc_tr = np.mean(res_cv['train_accuracy']) * 100\n",
        "res_acc_te = np.mean(res_cv['test_accuracy']) * 100\n",
        "print(f'Average Accurarcy on Training and Test Set: {res_acc_tr:.2f}%/{res_acc_te:.2f}%')\n",
        "res_rec_tr = np.mean(res_cv['train_recall']) * 100\n",
        "res_rec_te = np.mean(res_cv['test_recall']) * 100\n",
        "print(f'Average Recall on Training and Test Set: {res_rec_tr:.2f}%/{res_rec_te:.2f}%')\n",
        "res_prec_tr = np.mean(res_cv['train_precision']) * 100\n",
        "res_prec_te = np.mean(res_cv['test_precision']) * 100\n",
        "print(f'Average Precision on Training and Test Set: {res_prec_tr:.2f}%/{res_prec_te:.2f}%')\n",
        "res_f1_tr = np.mean(res_cv['train_f1']) * 100\n",
        "res_f1_te = np.mean(res_cv['test_f1']) * 100\n",
        "print(f'Average F1 on Training and Test Set: {res_f1_tr:.2f}%/{res_f1_te:.2f}%')"
      ],
      "execution_count": 63,
      "outputs": [
        {
          "output_type": "stream",
          "text": [
            "Average Accurarcy on Training and Test Set: 85.57%/85.45%\n",
            "Average Recall on Training and Test Set: 92.93%/90.33%\n",
            "Average Precision on Training and Test Set: 84.16%/87.62%\n",
            "Average F1 on Training and Test Set: 87.67%/86.59%\n"
          ],
          "name": "stdout"
        }
      ]
    }
  ]
}
