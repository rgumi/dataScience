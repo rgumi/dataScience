{
  "nbformat": 4,
  "nbformat_minor": 0,
  "metadata": {
    "kernelspec": {
      "display_name": "Python 3",
      "language": "python",
      "name": "python3"
    },
    "language_info": {
      "codemirror_mode": {
        "name": "ipython",
        "version": 3
      },
      "file_extension": ".py",
      "mimetype": "text/x-python",
      "name": "python",
      "nbconvert_exporter": "python",
      "pygments_lexer": "ipython3",
      "version": "3.6.8"
    },
    "colab": {
      "name": "rental-prices-polynomial-regression.ipynb",
      "provenance": [],
      "include_colab_link": true
    }
  },
  "cells": [
    {
      "cell_type": "markdown",
      "metadata": {
        "id": "view-in-github",
        "colab_type": "text"
      },
      "source": [
        "<a href=\"https://colab.research.google.com/github/rgumi/dataScience/blob/master/rental_prices_polynomial_regression.ipynb\" target=\"_parent\"><img src=\"https://colab.research.google.com/assets/colab-badge.svg\" alt=\"Open In Colab\"/></a>"
      ]
    },
    {
      "cell_type": "code",
      "metadata": {
        "id": "KKM_4Jd1cbmB",
        "colab_type": "code",
        "colab": {}
      },
      "source": [
        "import numpy as np\n",
        "import pandas as pd\n",
        "from sklearn.compose import ColumnTransformer\n",
        "from sklearn.linear_model import SGDRegressor\n",
        "from sklearn.metrics import mean_squared_error\n",
        "from sklearn.model_selection import cross_validate, train_test_split\n",
        "from sklearn.pipeline import Pipeline\n",
        "from sklearn.preprocessing import MinMaxScaler, PolynomialFeatures"
      ],
      "execution_count": 0,
      "outputs": []
    },
    {
      "cell_type": "code",
      "metadata": {
        "id": "Bl3jP1AHcbmF",
        "colab_type": "code",
        "colab": {}
      },
      "source": [
        "data = pd.read_csv('https://raw.githubusercontent.com/saschaschworm/big-data-and-data-science/master/datasets/demos/rental-prices.csv')\n",
        "X, y = data[['apartment_size', 'age']], data['rental_price']\n",
        "\n",
        "hyperparams = {'loss': 'squared_loss', 'penalty': 'L1', 'alpha': 0.0001, 'max_iter': 50000, \n",
        "               'tol': 1e-3, 'random_state': 1909, 'eta0': 0.01}\n",
        "\n",
        "model = SGDRegressor(**hyperparams)"
      ],
      "execution_count": 0,
      "outputs": []
    },
    {
      "cell_type": "code",
      "metadata": {
        "id": "Q2dHyw86cbmN",
        "colab_type": "code",
        "colab": {}
      },
      "source": [
        "numeric_features = ['apartment_size', 'age']\n",
        "\n",
        "polynomial_transformer = Pipeline([\n",
        "    ('polynomials', PolynomialFeatures(degree=21, include_bias=False)),\n",
        "    ('scaler', MinMaxScaler()),\n",
        "])\n",
        "\n",
        "numeric_transformer = Pipeline([\n",
        "    ('scaler', MinMaxScaler()),\n",
        "])\n",
        "\n",
        "preprocessor = ColumnTransformer([\n",
        "    ('p_transformer', polynomial_transformer, ['apartment_size']),\n",
        "    ('n_transformer', numeric_transformer, numeric_features),\n",
        "])\n",
        "\n",
        "pipeline = Pipeline([\n",
        "    ('preprocessor', preprocessor), \n",
        "    ('model', model)\n",
        "])\n",
        "\n",
        "pipeline = pipeline.fit(X, y)"
      ],
      "execution_count": 0,
      "outputs": []
    },
    {
      "cell_type": "code",
      "metadata": {
        "id": "FIfjXr3JcbmU",
        "colab_type": "code",
        "outputId": "70618d22-07c3-460b-d122-5950ec9267f7",
        "colab": {
          "base_uri": "https://localhost:8080/",
          "height": 34
        }
      },
      "source": [
        "prediction = pipeline.predict(pd.DataFrame({'apartment_size': [44], 'age': [10]}))\n",
        "f'Prediction for a 44sqm Apartment: {prediction[0]:.2f} EUR'"
      ],
      "execution_count": 0,
      "outputs": [
        {
          "output_type": "execute_result",
          "data": {
            "text/plain": [
              "'Prediction for a 44sqm Apartment: 521.70 EUR'"
            ]
          },
          "metadata": {
            "tags": []
          },
          "execution_count": 116
        }
      ]
    },
    {
      "cell_type": "code",
      "metadata": {
        "id": "JvFOYGx9cbml",
        "colab_type": "code",
        "colab": {}
      },
      "source": [
        "scoring = 'neg_mean_squared_error'\n",
        "res_cv = cross_validate(pipeline, X, y, scoring=scoring, cv=10, return_train_score=True)"
      ],
      "execution_count": 0,
      "outputs": []
    },
    {
      "cell_type": "code",
      "metadata": {
        "id": "X22VoI2pcbms",
        "colab_type": "code",
        "outputId": "c15e850d-b7ad-45ce-c475-71ca66ba417e",
        "colab": {
          "base_uri": "https://localhost:8080/",
          "height": 34
        }
      },
      "source": [
        "res_rmse_tr = np.mean(np.sqrt(np.abs(res_cv['train_score'])))\n",
        "res_rmse_te = np.mean(np.sqrt(np.abs(res_cv['test_score'])))\n",
        "f'Average RMSE on Training and Test Set: {res_rmse_tr:.2f}/{res_rmse_te:.2f} EUR'"
      ],
      "execution_count": 0,
      "outputs": [
        {
          "output_type": "execute_result",
          "data": {
            "text/plain": [
              "'Average RMSE on Training and Test Set: 23.92/34.39 EUR'"
            ]
          },
          "metadata": {
            "tags": []
          },
          "execution_count": 118
        }
      ]
    }
  ]
}