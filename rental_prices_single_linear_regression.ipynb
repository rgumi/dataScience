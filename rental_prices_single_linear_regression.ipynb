{
  "nbformat": 4,
  "nbformat_minor": 0,
  "metadata": {
    "kernelspec": {
      "display_name": "Python 3",
      "language": "python",
      "name": "python3"
    },
    "language_info": {
      "codemirror_mode": {
        "name": "ipython",
        "version": 3
      },
      "file_extension": ".py",
      "mimetype": "text/x-python",
      "name": "python",
      "nbconvert_exporter": "python",
      "pygments_lexer": "ipython3",
      "version": "3.6.8"
    },
    "colab": {
      "name": "rental-prices-single-linear-regression.ipynb",
      "version": "0.3.2",
      "provenance": [],
      "include_colab_link": true
    }
  },
  "cells": [
    {
      "cell_type": "markdown",
      "metadata": {
        "id": "view-in-github",
        "colab_type": "text"
      },
      "source": [
        "<a href=\"https://colab.research.google.com/github/rgumi/dataScience/blob/master/rental_prices_single_linear_regression.ipynb\" target=\"_parent\"><img src=\"https://colab.research.google.com/assets/colab-badge.svg\" alt=\"Open In Colab\"/></a>"
      ]
    },
    {
      "cell_type": "code",
      "metadata": {
        "id": "lcQesVZiaSJE",
        "colab_type": "code",
        "colab": {}
      },
      "source": [
        "import numpy as np\n",
        "import pandas as pd\n",
        "from sklearn.linear_model import SGDRegressor\n",
        "from sklearn.metrics import mean_squared_error\n",
        "from sklearn.model_selection import cross_validate, train_test_split"
      ],
      "execution_count": 0,
      "outputs": []
    },
    {
      "cell_type": "code",
      "metadata": {
        "id": "tJMmVvDnaSJI",
        "colab_type": "code",
        "colab": {}
      },
      "source": [
        "data = pd.read_csv('https://raw.githubusercontent.com/saschaschworm/big-data-and-data-science/master/datasets/demos/rental-prices.csv')\n",
        "X, y = data[['apartment_size']], data['rental_price'] # [[]] --> Matrix\n",
        "\n",
        "hyperparams = {'loss': 'squared_loss', 'penalty': 'none', 'alpha': 0.0001, 'max_iter': 100000, \n",
        "               'tol': 1e-3, 'random_state': 1909, 'eta0': 0.0000001}\n",
        "\n",
        "model = SGDRegressor(**hyperparams)\n",
        "model = model.fit(X, y)"
      ],
      "execution_count": 0,
      "outputs": []
    },
    {
      "cell_type": "markdown",
      "metadata": {
        "id": "6vw7a2is3-7Q",
        "colab_type": "text"
      },
      "source": [
        "## edits"
      ]
    },
    {
      "cell_type": "code",
      "metadata": {
        "id": "KyrIBFng2P_J",
        "colab_type": "code",
        "colab": {}
      },
      "source": [
        "# type(y) --> Series (Vektor), type(X) --> DataFrame (Matrix)\n",
        "# data.plot?\n",
        "# data.plot(x=\"apartment_size\", y=\"rental_price\", kind=\"box\") # scatter\n"
      ],
      "execution_count": 0,
      "outputs": []
    },
    {
      "cell_type": "code",
      "metadata": {
        "id": "St6LLkrV2XS0",
        "colab_type": "code",
        "colab": {
          "base_uri": "https://localhost:8080/",
          "height": 284
        },
        "outputId": "f4398bdb-34a2-45d8-c358-7feef9eda6c2"
      },
      "source": [
        "data.describe(percentiles=[.01,.99])"
      ],
      "execution_count": 61,
      "outputs": [
        {
          "output_type": "execute_result",
          "data": {
            "text/html": [
              "<div>\n",
              "<style scoped>\n",
              "    .dataframe tbody tr th:only-of-type {\n",
              "        vertical-align: middle;\n",
              "    }\n",
              "\n",
              "    .dataframe tbody tr th {\n",
              "        vertical-align: top;\n",
              "    }\n",
              "\n",
              "    .dataframe thead th {\n",
              "        text-align: right;\n",
              "    }\n",
              "</style>\n",
              "<table border=\"1\" class=\"dataframe\">\n",
              "  <thead>\n",
              "    <tr style=\"text-align: right;\">\n",
              "      <th></th>\n",
              "      <th>apartment_size</th>\n",
              "      <th>rental_price</th>\n",
              "      <th>age</th>\n",
              "    </tr>\n",
              "  </thead>\n",
              "  <tbody>\n",
              "    <tr>\n",
              "      <th>count</th>\n",
              "      <td>40.000000</td>\n",
              "      <td>40.000000</td>\n",
              "      <td>40.000000</td>\n",
              "    </tr>\n",
              "    <tr>\n",
              "      <th>mean</th>\n",
              "      <td>51.493500</td>\n",
              "      <td>564.651000</td>\n",
              "      <td>13.475000</td>\n",
              "    </tr>\n",
              "    <tr>\n",
              "      <th>std</th>\n",
              "      <td>5.516504</td>\n",
              "      <td>61.489558</td>\n",
              "      <td>16.392599</td>\n",
              "    </tr>\n",
              "    <tr>\n",
              "      <th>min</th>\n",
              "      <td>40.380000</td>\n",
              "      <td>444.720000</td>\n",
              "      <td>5.000000</td>\n",
              "    </tr>\n",
              "    <tr>\n",
              "      <th>1%</th>\n",
              "      <td>40.387800</td>\n",
              "      <td>446.892300</td>\n",
              "      <td>5.000000</td>\n",
              "    </tr>\n",
              "    <tr>\n",
              "      <th>50%</th>\n",
              "      <td>52.150000</td>\n",
              "      <td>572.515000</td>\n",
              "      <td>7.500000</td>\n",
              "    </tr>\n",
              "    <tr>\n",
              "      <th>99%</th>\n",
              "      <td>59.453000</td>\n",
              "      <td>647.794000</td>\n",
              "      <td>53.000000</td>\n",
              "    </tr>\n",
              "    <tr>\n",
              "      <th>max</th>\n",
              "      <td>59.570000</td>\n",
              "      <td>651.460000</td>\n",
              "      <td>53.000000</td>\n",
              "    </tr>\n",
              "  </tbody>\n",
              "</table>\n",
              "</div>"
            ],
            "text/plain": [
              "       apartment_size  rental_price        age\n",
              "count       40.000000     40.000000  40.000000\n",
              "mean        51.493500    564.651000  13.475000\n",
              "std          5.516504     61.489558  16.392599\n",
              "min         40.380000    444.720000   5.000000\n",
              "1%          40.387800    446.892300   5.000000\n",
              "50%         52.150000    572.515000   7.500000\n",
              "99%         59.453000    647.794000  53.000000\n",
              "max         59.570000    651.460000  53.000000"
            ]
          },
          "metadata": {
            "tags": []
          },
          "execution_count": 61
        }
      ]
    },
    {
      "cell_type": "markdown",
      "metadata": {
        "id": "srlbJpD24DEz",
        "colab_type": "text"
      },
      "source": [
        "## continue"
      ]
    },
    {
      "cell_type": "code",
      "metadata": {
        "id": "wYCPTARxaSJN",
        "colab_type": "code",
        "outputId": "2b5a87c4-ac1c-4aa6-dbaf-19bd649d1a9b",
        "colab": {
          "base_uri": "https://localhost:8080/",
          "height": 34
        }
      },
      "source": [
        "prediction = model.predict([[44]])\n",
        "f'Prediction for a 44sqm Apartment: {prediction[0]:.2f} EUR'"
      ],
      "execution_count": 93,
      "outputs": [
        {
          "output_type": "execute_result",
          "data": {
            "text/plain": [
              "'Prediction for a 44sqm Apartment: 478.66 EUR'"
            ]
          },
          "metadata": {
            "tags": []
          },
          "execution_count": 93
        }
      ]
    },
    {
      "cell_type": "code",
      "metadata": {
        "id": "mHNdrUM2aSJU",
        "colab_type": "code",
        "outputId": "18ad1a59-de91-4ea9-d1b3-cf1f50c9545d",
        "colab": {
          "base_uri": "https://localhost:8080/",
          "height": 34
        }
      },
      "source": [
        "res_params = [*model.intercept_.tolist(), *model.coef_.tolist()]\n",
        "#f'{res_params[0] + res_params[1] * 44: .2f}'\n",
        "f'Learned Parameters: {res_params}'"
      ],
      "execution_count": 94,
      "outputs": [
        {
          "output_type": "execute_result",
          "data": {
            "text/plain": [
              "'Learned Parameters: [0.2156162754650196, 10.873694223403001]'"
            ]
          },
          "metadata": {
            "tags": []
          },
          "execution_count": 94
        }
      ]
    },
    {
      "cell_type": "code",
      "metadata": {
        "id": "Oe45H5POaSJg",
        "colab_type": "code",
        "outputId": "55401370-9eab-4463-b800-f5aab7a770a7",
        "colab": {
          "base_uri": "https://localhost:8080/",
          "height": 34
        }
      },
      "source": [
        "res_loss_function = np.sum(np.power(y - model.predict(X), 2)) * 0.5\n",
        "f'Loss Function Value: {res_loss_function:.2f}'"
      ],
      "execution_count": 95,
      "outputs": [
        {
          "output_type": "execute_result",
          "data": {
            "text/plain": [
              "'Loss Function Value: 45061.73'"
            ]
          },
          "metadata": {
            "tags": []
          },
          "execution_count": 95
        }
      ]
    },
    {
      "cell_type": "code",
      "metadata": {
        "id": "EfXvYWwLaSJn",
        "colab_type": "code",
        "outputId": "5de2052a-73f7-41eb-eb3c-cc3c7252070b",
        "colab": {
          "base_uri": "https://localhost:8080/",
          "height": 34
        }
      },
      "source": [
        "res_rmse = np.sqrt(mean_squared_error(y, model.predict(X)))\n",
        "f'RMSE on the Training Set: {res_rmse:.2f} EUR'"
      ],
      "execution_count": 96,
      "outputs": [
        {
          "output_type": "execute_result",
          "data": {
            "text/plain": [
              "'RMSE on the Training Set: 47.47 EUR'"
            ]
          },
          "metadata": {
            "tags": []
          },
          "execution_count": 96
        }
      ]
    },
    {
      "cell_type": "code",
      "metadata": {
        "id": "VCG0VTLRaSJs",
        "colab_type": "code",
        "colab": {}
      },
      "source": [
        "X_train, X_test, y_train, y_test = train_test_split(X, y, test_size=0.25, random_state=1909)"
      ],
      "execution_count": 0,
      "outputs": []
    },
    {
      "cell_type": "code",
      "metadata": {
        "id": "LWHaAudjaSJy",
        "colab_type": "code",
        "colab": {}
      },
      "source": [
        "model = model.fit(X_train, y_train)"
      ],
      "execution_count": 0,
      "outputs": []
    },
    {
      "cell_type": "code",
      "metadata": {
        "id": "VovPLjupaSJ7",
        "colab_type": "code",
        "outputId": "f3d19345-869d-48b5-f670-af8adae7e1ee",
        "colab": {
          "base_uri": "https://localhost:8080/",
          "height": 34
        }
      },
      "source": [
        "y_pred_tr, y_pred_te = model.predict(X_train), model.predict(X_test) \n",
        "res_rmse_tr = np.sqrt(mean_squared_error(y_train, y_pred_tr))\n",
        "res_rmse_te = np.sqrt(mean_squared_error(y_test, y_pred_te))\n",
        "f'RMSE on Training and Test Set: {res_rmse_tr:.2f}/{res_rmse_te:.2f} EUR'"
      ],
      "execution_count": 101,
      "outputs": [
        {
          "output_type": "execute_result",
          "data": {
            "text/plain": [
              "'RMSE on Training and Test Set: 50.53/36.78 EUR'"
            ]
          },
          "metadata": {
            "tags": []
          },
          "execution_count": 101
        }
      ]
    },
    {
      "cell_type": "code",
      "metadata": {
        "id": "xKCBscLeaSKB",
        "colab_type": "code",
        "colab": {}
      },
      "source": [
        "scoring = 'neg_mean_squared_error'\n",
        "res_cv = cross_validate(model, X, y, scoring=scoring, cv=4, return_train_score=True)"
      ],
      "execution_count": 0,
      "outputs": []
    },
    {
      "cell_type": "code",
      "metadata": {
        "id": "fdCEXaaXaSKE",
        "colab_type": "code",
        "outputId": "cddde293-37f8-4c50-b399-1870b755b288",
        "colab": {
          "base_uri": "https://localhost:8080/",
          "height": 34
        }
      },
      "source": [
        "res_rmse_tr = np.mean(np.sqrt(np.abs(res_cv['train_score'])))\n",
        "res_rmse_te = np.mean(np.sqrt(np.abs(res_cv['test_score'])))\n",
        "f'Average RMSE on Training and Test Set: {res_rmse_tr:.2f}/{res_rmse_te:.2f} EUR'"
      ],
      "execution_count": 109,
      "outputs": [
        {
          "output_type": "execute_result",
          "data": {
            "text/plain": [
              "'Average RMSE on Training and Test Set: 46.28/47.98 EUR'"
            ]
          },
          "metadata": {
            "tags": []
          },
          "execution_count": 109
        }
      ]
    }
  ]
}