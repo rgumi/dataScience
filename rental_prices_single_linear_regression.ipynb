{
  "nbformat": 4,
  "nbformat_minor": 0,
  "metadata": {
    "kernelspec": {
      "display_name": "Python 3",
      "language": "python",
      "name": "python3"
    },
    "language_info": {
      "codemirror_mode": {
        "name": "ipython",
        "version": 3
      },
      "file_extension": ".py",
      "mimetype": "text/x-python",
      "name": "python",
      "nbconvert_exporter": "python",
      "pygments_lexer": "ipython3",
      "version": "3.6.8"
    },
    "colab": {
      "name": "rental-prices-single-linear-regression.ipynb",
      "version": "0.3.2",
      "provenance": [],
      "include_colab_link": true
    }
  },
  "cells": [
    {
      "cell_type": "markdown",
      "metadata": {
        "id": "view-in-github",
        "colab_type": "text"
      },
      "source": [
        "<a href=\"https://colab.research.google.com/github/rgumi/dataScience/blob/master/rental_prices_single_linear_regression.ipynb\" target=\"_parent\"><img src=\"https://colab.research.google.com/assets/colab-badge.svg\" alt=\"Open In Colab\"/></a>"
      ]
    },
    {
      "cell_type": "code",
      "metadata": {
        "id": "lcQesVZiaSJE",
        "colab_type": "code",
        "colab": {}
      },
      "source": [
        "import numpy as np\n",
        "import pandas as pd\n",
        "from sklearn.linear_model import SGDRegressor\n",
        "from sklearn.metrics import mean_squared_error\n",
        "from sklearn.model_selection import cross_validate, train_test_split"
      ],
      "execution_count": 0,
      "outputs": []
    },
    {
      "cell_type": "code",
      "metadata": {
        "id": "tJMmVvDnaSJI",
        "colab_type": "code",
        "colab": {}
      },
      "source": [
        "data = pd.read_csv('https://raw.githubusercontent.com/saschaschworm/big-data-and-data-science/master/datasets/demos/rental-prices.csv')\n",
        "X, y = data[['apartment_size']], data['rental_price']\n",
        "\n",
        "hyperparams = {'loss': 'squared_loss', 'penalty': 'none', 'alpha': 0.0001, 'max_iter': 1000, \n",
        "               'tol': 1e-3, 'random_state': 1909, 'eta0': 0.0001}\n",
        "\n",
        "model = SGDRegressor(**hyperparams)\n",
        "model = model.fit(X, y)"
      ],
      "execution_count": 0,
      "outputs": []
    },
    {
      "cell_type": "code",
      "metadata": {
        "id": "KyrIBFng2P_J",
        "colab_type": "code",
        "colab": {
          "base_uri": "https://localhost:8080/",
          "height": 286
        },
        "outputId": "c050a33e-7e01-4186-977b-bf65d0418e0a"
      },
      "source": [
        "# data.plot?\n",
        "data.plot(x=\"apartment_size\", y=\"rental_price\", kind=\"box\") # scatter"
      ],
      "execution_count": 45,
      "outputs": [
        {
          "output_type": "execute_result",
          "data": {
            "text/plain": [
              "<matplotlib.axes._subplots.AxesSubplot at 0x7f1b56eb0eb8>"
            ]
          },
          "metadata": {
            "tags": []
          },
          "execution_count": 45
        },
        {
          "output_type": "display_data",
          "data": {
            "image/png": "[encoded data removed]",
            "text/plain": [
              "<Figure size 432x288 with 1 Axes>"
            ]
          },
          "metadata": {
            "tags": []
          }
        }
      ]
    },
    {
      "cell_type": "code",
      "metadata": {
        "id": "St6LLkrV2XS0",
        "colab_type": "code",
        "colab": {
          "base_uri": "https://localhost:8080/",
          "height": 284
        },
        "outputId": "4728b3e6-c282-49cc-d76c-58cc192d93ba"
      },
      "source": [
        "data.describe(percentiles=[.01,.99])"
      ],
      "execution_count": 41,
      "outputs": [
        {
          "output_type": "execute_result",
          "data": {
            "text/html": [
              "<div>\n",
              "<style scoped>\n",
              "    .dataframe tbody tr th:only-of-type {\n",
              "        vertical-align: middle;\n",
              "    }\n",
              "\n",
              "    .dataframe tbody tr th {\n",
              "        vertical-align: top;\n",
              "    }\n",
              "\n",
              "    .dataframe thead th {\n",
              "        text-align: right;\n",
              "    }\n",
              "</style>\n",
              "<table border=\"1\" class=\"dataframe\">\n",
              "  <thead>\n",
              "    <tr style=\"text-align: right;\">\n",
              "      <th></th>\n",
              "      <th>apartment_size</th>\n",
              "      <th>rental_price</th>\n",
              "      <th>age</th>\n",
              "    </tr>\n",
              "  </thead>\n",
              "  <tbody>\n",
              "    <tr>\n",
              "      <th>count</th>\n",
              "      <td>40.000000</td>\n",
              "      <td>40.000000</td>\n",
              "      <td>40.000000</td>\n",
              "    </tr>\n",
              "    <tr>\n",
              "      <th>mean</th>\n",
              "      <td>51.493500</td>\n",
              "      <td>564.651000</td>\n",
              "      <td>13.475000</td>\n",
              "    </tr>\n",
              "    <tr>\n",
              "      <th>std</th>\n",
              "      <td>5.516504</td>\n",
              "      <td>61.489558</td>\n",
              "      <td>16.392599</td>\n",
              "    </tr>\n",
              "    <tr>\n",
              "      <th>min</th>\n",
              "      <td>40.380000</td>\n",
              "      <td>444.720000</td>\n",
              "      <td>5.000000</td>\n",
              "    </tr>\n",
              "    <tr>\n",
              "      <th>1%</th>\n",
              "      <td>40.387800</td>\n",
              "      <td>446.892300</td>\n",
              "      <td>5.000000</td>\n",
              "    </tr>\n",
              "    <tr>\n",
              "      <th>50%</th>\n",
              "      <td>52.150000</td>\n",
              "      <td>572.515000</td>\n",
              "      <td>7.500000</td>\n",
              "    </tr>\n",
              "    <tr>\n",
              "      <th>99%</th>\n",
              "      <td>59.453000</td>\n",
              "      <td>647.794000</td>\n",
              "      <td>53.000000</td>\n",
              "    </tr>\n",
              "    <tr>\n",
              "      <th>max</th>\n",
              "      <td>59.570000</td>\n",
              "      <td>651.460000</td>\n",
              "      <td>53.000000</td>\n",
              "    </tr>\n",
              "  </tbody>\n",
              "</table>\n",
              "</div>"
            ],
            "text/plain": [
              "       apartment_size  rental_price        age\n",
              "count       40.000000     40.000000  40.000000\n",
              "mean        51.493500    564.651000  13.475000\n",
              "std          5.516504     61.489558  16.392599\n",
              "min         40.380000    444.720000   5.000000\n",
              "1%          40.387800    446.892300   5.000000\n",
              "50%         52.150000    572.515000   7.500000\n",
              "99%         59.453000    647.794000  53.000000\n",
              "max         59.570000    651.460000  53.000000"
            ]
          },
          "metadata": {
            "tags": []
          },
          "execution_count": 41
        }
      ]
    },
    {
      "cell_type": "code",
      "metadata": {
        "id": "wYCPTARxaSJN",
        "colab_type": "code",
        "outputId": "26649f69-ae26-4908-fa22-8076bab12461",
        "colab": {
          "base_uri": "https://localhost:8080/",
          "height": 34
        }
      },
      "source": [
        "prediction = model.predict([[44]])\n",
        "f'Prediction for a 44sqm Apartment: {prediction[0]:.2f} EUR'"
      ],
      "execution_count": 35,
      "outputs": [
        {
          "output_type": "execute_result",
          "data": {
            "text/plain": [
              "'Prediction for a 44sqm Apartment: 482.01 EUR'"
            ]
          },
          "metadata": {
            "tags": []
          },
          "execution_count": 35
        }
      ]
    },
    {
      "cell_type": "code",
      "metadata": {
        "id": "mHNdrUM2aSJU",
        "colab_type": "code",
        "outputId": "68383a04-078e-46a0-96f4-7b1debd77b37",
        "colab": {
          "base_uri": "https://localhost:8080/",
          "height": 34
        }
      },
      "source": [
        "res_params = [*model.intercept_.tolist(), *model.coef_.tolist()]\n",
        "f'Learned Parameters: {res_params}'"
      ],
      "execution_count": 24,
      "outputs": [
        {
          "output_type": "execute_result",
          "data": {
            "text/plain": [
              "'Learned Parameters: [0.24185631513843506, 10.94916974514499]'"
            ]
          },
          "metadata": {
            "tags": []
          },
          "execution_count": 24
        }
      ]
    },
    {
      "cell_type": "code",
      "metadata": {
        "id": "Oe45H5POaSJg",
        "colab_type": "code",
        "outputId": "9ae1925e-81ae-4148-b9f1-0bd3a7134b18",
        "colab": {
          "base_uri": "https://localhost:8080/",
          "height": 34
        }
      },
      "source": [
        "res_loss_function = np.sum(np.power(y - model.predict(X), 2)) * 0.5\n",
        "f'Loss Function Value: {res_loss_function:.2f}'"
      ],
      "execution_count": 25,
      "outputs": [
        {
          "output_type": "execute_result",
          "data": {
            "text/plain": [
              "'Loss Function Value: 44950.53'"
            ]
          },
          "metadata": {
            "tags": []
          },
          "execution_count": 25
        }
      ]
    },
    {
      "cell_type": "code",
      "metadata": {
        "id": "EfXvYWwLaSJn",
        "colab_type": "code",
        "outputId": "7c21d13d-8f89-4e65-b6f0-bad45fbcd10e",
        "colab": {
          "base_uri": "https://localhost:8080/",
          "height": 34
        }
      },
      "source": [
        "res_rmse = np.sqrt(mean_squared_error(y, model.predict(X)))\n",
        "f'RMSE on the Training Set: {res_rmse:.2f} EUR'"
      ],
      "execution_count": 26,
      "outputs": [
        {
          "output_type": "execute_result",
          "data": {
            "text/plain": [
              "'RMSE on the Training Set: 47.41 EUR'"
            ]
          },
          "metadata": {
            "tags": []
          },
          "execution_count": 26
        }
      ]
    },
    {
      "cell_type": "code",
      "metadata": {
        "id": "VCG0VTLRaSJs",
        "colab_type": "code",
        "colab": {}
      },
      "source": [
        "X_train, X_test, y_train, y_test = train_test_split(X, y, test_size=0.25, random_state=1909)"
      ],
      "execution_count": 0,
      "outputs": []
    },
    {
      "cell_type": "code",
      "metadata": {
        "id": "LWHaAudjaSJy",
        "colab_type": "code",
        "colab": {}
      },
      "source": [
        "model = model.fit(X_train, y_train)"
      ],
      "execution_count": 0,
      "outputs": []
    },
    {
      "cell_type": "code",
      "metadata": {
        "id": "VovPLjupaSJ7",
        "colab_type": "code",
        "outputId": "c4bc1531-38a4-4bbc-f0bd-b657905b6aa6",
        "colab": {
          "base_uri": "https://localhost:8080/",
          "height": 34
        }
      },
      "source": [
        "y_pred_tr, y_pred_te = model.predict(X_train), model.predict(X_test) \n",
        "res_rmse_tr = np.sqrt(mean_squared_error(y_train, y_pred_tr))\n",
        "res_rmse_te = np.sqrt(mean_squared_error(y_test, y_pred_te))\n",
        "f'RMSE on Training and Test Set: {res_rmse_tr:.2f}/{res_rmse_te:.2f} EUR'"
      ],
      "execution_count": 29,
      "outputs": [
        {
          "output_type": "execute_result",
          "data": {
            "text/plain": [
              "'RMSE on Training and Test Set: 50.58/36.41 EUR'"
            ]
          },
          "metadata": {
            "tags": []
          },
          "execution_count": 29
        }
      ]
    },
    {
      "cell_type": "code",
      "metadata": {
        "id": "xKCBscLeaSKB",
        "colab_type": "code",
        "colab": {}
      },
      "source": [
        "scoring = 'neg_mean_squared_error'\n",
        "res_cv = cross_validate(model, X, y, scoring=scoring, cv=10, return_train_score=True)"
      ],
      "execution_count": 0,
      "outputs": []
    },
    {
      "cell_type": "code",
      "metadata": {
        "id": "fdCEXaaXaSKE",
        "colab_type": "code",
        "outputId": "aa1f9f4d-f1f8-4f6c-942b-971bbcb19755",
        "colab": {
          "base_uri": "https://localhost:8080/",
          "height": 34
        }
      },
      "source": [
        "res_rmse_tr = np.mean(np.sqrt(np.abs(res_cv['train_score'])))\n",
        "res_rmse_te = np.mean(np.sqrt(np.abs(res_cv['test_score'])))\n",
        "f'Average RMSE on Training and Test Set: {res_rmse_tr:.2f}/{res_rmse_te:.2f} EUR'"
      ],
      "execution_count": 31,
      "outputs": [
        {
          "output_type": "execute_result",
          "data": {
            "text/plain": [
              "'Average RMSE on Training and Test Set: 47.28/45.58 EUR'"
            ]
          },
          "metadata": {
            "tags": []
          },
          "execution_count": 31
        }
      ]
    }
  ]
}