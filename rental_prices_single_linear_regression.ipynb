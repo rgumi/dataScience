{
  "nbformat": 4,
  "nbformat_minor": 0,
  "metadata": {
    "kernelspec": {
      "display_name": "Python 3",
      "language": "python",
      "name": "python3"
    },
    "language_info": {
      "codemirror_mode": {
        "name": "ipython",
        "version": 3
      },
      "file_extension": ".py",
      "mimetype": "text/x-python",
      "name": "python",
      "nbconvert_exporter": "python",
      "pygments_lexer": "ipython3",
      "version": "3.6.8"
    },
    "colab": {
      "name": "rental-prices-single-linear-regression.ipynb",
      "version": "0.3.2",
      "provenance": [],
      "include_colab_link": true
    }
  },
  "cells": [
    {
      "cell_type": "markdown",
      "metadata": {
        "id": "view-in-github",
        "colab_type": "text"
      },
      "source": [
        "<a href=\"https://colab.research.google.com/github/rgumi/dataScience/blob/master/rental_prices_single_linear_regression.ipynb\" target=\"_parent\"><img src=\"https://colab.research.google.com/assets/colab-badge.svg\" alt=\"Open In Colab\"/></a>"
      ]
    },
    {
      "cell_type": "markdown",
      "metadata": {
        "id": "l5JN55iPaSI9",
        "colab_type": "text"
      },
      "source": [
        "[![Open In Colab](https://colab.research.google.com/assets/colab-badge.svg)](https://colab.research.google.com/github/saschaschworm/big-data-and-data-science/blob/master/notebooks/demos/rental-prices-single-linear-regression.ipynb)"
      ]
    },
    {
      "cell_type": "code",
      "metadata": {
        "id": "lcQesVZiaSJE",
        "colab_type": "code",
        "colab": {}
      },
      "source": [
        "import numpy as np\n",
        "import pandas as pd\n",
        "from sklearn.linear_model import SGDRegressor\n",
        "from sklearn.metrics import mean_squared_error\n",
        "from sklearn.model_selection import cross_validate, train_test_split"
      ],
      "execution_count": 0,
      "outputs": []
    },
    {
      "cell_type": "code",
      "metadata": {
        "id": "tJMmVvDnaSJI",
        "colab_type": "code",
        "colab": {}
      },
      "source": [
        "data = pd.read_csv('https://raw.githubusercontent.com/saschaschworm/big-data-and-data-science/master/datasets/demos/rental-prices.csv')\n",
        "X, y = data[['apartment_size']], data['rental_price']\n",
        "\n",
        "hyperparams = {'loss': 'squared_loss', 'penalty': 'none', 'alpha': 0.0001, 'max_iter': 1000, \n",
        "               'tol': 1e-3, 'random_state': 1909, 'eta0': 0.0001}\n",
        "\n",
        "model = SGDRegressor(**hyperparams)\n",
        "model = model.fit(X, y)"
      ],
      "execution_count": 0,
      "outputs": []
    },
    {
      "cell_type": "code",
      "metadata": {
        "id": "wYCPTARxaSJN",
        "colab_type": "code",
        "outputId": "d8cd1da5-1a1e-49ac-8b5f-83101ed59738",
        "colab": {}
      },
      "source": [
        "prediction = model.predict([[44]])\n",
        "'Prediction for a 44sqm Apartment: {prediction[0]:.2f} EUR'"
      ],
      "execution_count": 0,
      "outputs": [
        {
          "output_type": "execute_result",
          "data": {
            "text/plain": [
              "'Prediction for a 44sqm Apartment: {prediction[0]:.2f} EUR'"
            ]
          },
          "metadata": {
            "tags": []
          },
          "execution_count": 3
        }
      ]
    },
    {
      "cell_type": "code",
      "metadata": {
        "id": "mHNdrUM2aSJU",
        "colab_type": "code",
        "outputId": "04381984-736a-4f8e-c14e-1303c8bfe2a1",
        "colab": {}
      },
      "source": [
        "res_params = [*model.intercept_.tolist(), *model.coef_.tolist()]\n",
        "f'Learned Parameters: {res_params}'"
      ],
      "execution_count": 0,
      "outputs": [
        {
          "output_type": "execute_result",
          "data": {
            "text/plain": [
              "'Learned Parameters: [0.24185631513843506, 10.94916974514499]'"
            ]
          },
          "metadata": {
            "tags": []
          },
          "execution_count": 4
        }
      ]
    },
    {
      "cell_type": "code",
      "metadata": {
        "id": "Oe45H5POaSJg",
        "colab_type": "code",
        "outputId": "11e39b43-c5b2-4ac6-c430-1f9ee58a2f17",
        "colab": {}
      },
      "source": [
        "res_loss_function = np.sum(np.power(y - model.predict(X), 2)) * 0.5\n",
        "f'Loss Function Value: {res_loss_function:.2f}'"
      ],
      "execution_count": 0,
      "outputs": [
        {
          "output_type": "execute_result",
          "data": {
            "text/plain": [
              "'Loss Function Value: 44950.53'"
            ]
          },
          "metadata": {
            "tags": []
          },
          "execution_count": 5
        }
      ]
    },
    {
      "cell_type": "code",
      "metadata": {
        "id": "EfXvYWwLaSJn",
        "colab_type": "code",
        "outputId": "aeace892-2848-404b-f7f7-8a7445293aaa",
        "colab": {}
      },
      "source": [
        "res_rmse = np.sqrt(mean_squared_error(y, model.predict(X)))\n",
        "f'RMSE on the Training Set: {res_rmse:.2f} EUR'"
      ],
      "execution_count": 0,
      "outputs": [
        {
          "output_type": "execute_result",
          "data": {
            "text/plain": [
              "'RMSE on the Training Set: 47.41 EUR'"
            ]
          },
          "metadata": {
            "tags": []
          },
          "execution_count": 6
        }
      ]
    },
    {
      "cell_type": "code",
      "metadata": {
        "id": "VCG0VTLRaSJs",
        "colab_type": "code",
        "colab": {}
      },
      "source": [
        "X_train, X_test, y_train, y_test = train_test_split(X, y, test_size=0.25, random_state=1909)"
      ],
      "execution_count": 0,
      "outputs": []
    },
    {
      "cell_type": "code",
      "metadata": {
        "id": "LWHaAudjaSJy",
        "colab_type": "code",
        "colab": {}
      },
      "source": [
        "model = model.fit(X_train, y_train)"
      ],
      "execution_count": 0,
      "outputs": []
    },
    {
      "cell_type": "code",
      "metadata": {
        "id": "VovPLjupaSJ7",
        "colab_type": "code",
        "outputId": "2ea34b31-e934-4e70-e142-a2bfdf3d9696",
        "colab": {}
      },
      "source": [
        "y_pred_tr, y_pred_te = model.predict(X_train), model.predict(X_test) \n",
        "res_rmse_tr = np.sqrt(mean_squared_error(y_train, y_pred_tr))\n",
        "res_rmse_te = np.sqrt(mean_squared_error(y_test, y_pred_te))\n",
        "f'RMSE on Training and Test Set: {res_rmse_tr:.2f}/{res_rmse_te:.2f} EUR'"
      ],
      "execution_count": 0,
      "outputs": [
        {
          "output_type": "execute_result",
          "data": {
            "text/plain": [
              "'RMSE on Training and Test Set: 50.58/36.41 EUR'"
            ]
          },
          "metadata": {
            "tags": []
          },
          "execution_count": 9
        }
      ]
    },
    {
      "cell_type": "code",
      "metadata": {
        "id": "xKCBscLeaSKB",
        "colab_type": "code",
        "colab": {}
      },
      "source": [
        "scoring = 'neg_mean_squared_error'\n",
        "res_cv = cross_validate(model, X, y, scoring=scoring, cv=10, return_train_score=True)"
      ],
      "execution_count": 0,
      "outputs": []
    },
    {
      "cell_type": "code",
      "metadata": {
        "id": "fdCEXaaXaSKE",
        "colab_type": "code",
        "outputId": "ed89b9f7-f1bf-4912-b588-21b2d3182f78",
        "colab": {}
      },
      "source": [
        "res_rmse_tr = np.mean(np.sqrt(np.abs(res_cv['train_score'])))\n",
        "res_rmse_te = np.mean(np.sqrt(np.abs(res_cv['test_score'])))\n",
        "f'Average RMSE on Training and Test Set: {res_rmse_tr:.2f}/{res_rmse_te:.2f} EUR'"
      ],
      "execution_count": 0,
      "outputs": [
        {
          "output_type": "execute_result",
          "data": {
            "text/plain": [
              "'Average RMSE on Training and Test Set: 47.28/45.58 EUR'"
            ]
          },
          "metadata": {
            "tags": []
          },
          "execution_count": 11
        }
      ]
    }
  ]
}